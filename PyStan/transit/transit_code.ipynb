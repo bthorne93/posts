{
 "cells": [
  {
   "cell_type": "code",
   "execution_count": 83,
   "metadata": {
    "collapsed": true
   },
   "outputs": [],
   "source": [
    "import matplotlib, pickle\n",
    "import numpy as np\n",
    "import matplotlib.pyplot as plt\n",
    "from pystan import stan\n",
    "import corner\n",
    "\n",
    "matplotlib.style.use('ggplot')\n",
    "%matplotlib inline"
   ]
  },
  {
   "cell_type": "code",
   "execution_count": 84,
   "metadata": {
    "collapsed": true
   },
   "outputs": [],
   "source": [
    "class transit():\n",
    "\n",
    "    def __init__(self,num_samples,A,B,t_c,w,sigma):\n",
    "        self.num_samples = num_samples\n",
    "        self.A = A\n",
    "        self.B = B\n",
    "        self.t_c = t_c\n",
    "        self.w = w\n",
    "        self.sigma = sigma\n",
    "\n",
    "    def generate_data(self):\n",
    "        self.t_sample = np.arange(self.num_samples)\n",
    "        self.data = np.zeros(self.num_samples)\n",
    "        \n",
    "        for i,t in enumerate(self.t_sample):\n",
    "            if (t<self.t_c-self.w/2.) or (t>self.t_c+self.w/2.):\n",
    "                self.data[i] = np.random.normal(self.A,self.sigma,1)\n",
    "                \n",
    "            else: \n",
    "                self.data[i] = np.random.normal(self.A-self.B,self.sigma,1)\n",
    "\n",
    "        return self.t_sample, self.data\n",
    "\n",
    "    def plot_data(self,file_name):\n",
    "        fig = plt.figure(figsize=(7,7))\n",
    "        ax = fig.add_subplot(111)\n",
    "        ax.set_title('Mock transit data')\n",
    "        ax.set_ylabel('Luminosity')\n",
    "        ax.set_xlabel('Time')\n",
    "        ax.scatter(self.t_sample, self.data)\n",
    "        fig.savefig(file_name,bbox_inches='tight')\n",
    "        return fig"
   ]
  },
  {
   "cell_type": "code",
   "execution_count": null,
   "metadata": {
    "collapsed": false
   },
   "outputs": [
    {
     "data": {
      "image/png": "[encoded data removed]",
      "text/plain": [
       "<matplotlib.figure.Figure at 0x120975c90>"
      ]
     },
     "metadata": {},
     "output_type": "display_data"
    }
   ],
   "source": [
    "\"\"\"\n",
    "num_samples : number of samples\n",
    "A : amplitude of mean signal\n",
    "A - b : amplitude of mean signal during transit\n",
    "t_c : time of mid-transit\n",
    "w : width of transit\n",
    "sigma : spread of noise\n",
    "\n",
    "\"\"\"\n",
    "\n",
    "num_samples = 200\n",
    "A = 30\n",
    "B = 20\n",
    "t_c = 100\n",
    "w = 70\n",
    "t1=t_c-w/2\n",
    "t2=t_c+w/2\n",
    "sigma = 0.5 \n",
    "\n",
    "trans = transit(num_samples,A,B,t_c,w,sigma)\n",
    "data = trans.generate_data()\n",
    "fig = trans.plot_data('plots/mock_data_plot.png')"
   ]
  },
  {
   "cell_type": "code",
   "execution_count": null,
   "metadata": {
    "collapsed": false
   },
   "outputs": [],
   "source": [
    "data = np.loadtxt('mock_transit_data.txt',unpack=True)\n",
    "\n",
    "stan_data = {\n",
    "\n",
    "    'N' : data[0].size,\n",
    "    't' : data[0],\n",
    "    'L' : data[1]\n",
    "\n",
    "}\n",
    "\n",
    "fit = stan(file='transit_model.stan', data=stan_data, iter=1000, chains=4)\n",
    "\n",
    "results = fit.extract(permuted=True)"
   ]
  },
  {
   "cell_type": "code",
   "execution_count": null,
   "metadata": {
    "collapsed": false
   },
   "outputs": [],
   "source": [
    "fit.plot()\n",
    "plt.show()"
   ]
  },
  {
   "cell_type": "code",
   "execution_count": null,
   "metadata": {
    "collapsed": false
   },
   "outputs": [],
   "source": [
    "fig = plt.figure(figsize=(7,7))\n",
    "ax = fig.add_subplot(111)\n",
    "ax.set_title('')\n",
    "ax.set_ylabel('Luminosity')\n",
    "ax.set_xlabel('Time')\n",
    "ax.scatter(data[0], data[1],color='r',label='data')\n",
    "ax.scatter(np.arange(200), samples['L_pred'][0],label='prediction')\n",
    "ax.legend()\n",
    "fig.savefig('plots/data_pred.png')"
   ]
  },
  {
   "cell_type": "code",
   "execution_count": null,
   "metadata": {
    "collapsed": false
   },
   "outputs": [],
   "source": [
    "corner_samples =  np.array([samples['A'],samples['B'],samples['sigma'],samples['t1'],samples['t2']]).T"
   ]
  },
  {
   "cell_type": "code",
   "execution_count": null,
   "metadata": {
    "collapsed": false
   },
   "outputs": [],
   "source": [
    "fig = corner.corner(corner_samples, \n",
    "                    labels=['A','B',r'$\\sigma$','t1','t2'])\n",
    "fig.savefig('plots/corner.png',bbox_inches='tight')"
   ]
  },
  {
   "cell_type": "code",
   "execution_count": null,
   "metadata": {
    "collapsed": false
   },
   "outputs": [],
   "source": []
  },
  {
   "cell_type": "code",
   "execution_count": null,
   "metadata": {
    "collapsed": true
   },
   "outputs": [],
   "source": []
  }
 ],
 "metadata": {
  "kernelspec": {
   "display_name": "Python 2",
   "language": "python",
   "name": "python2"
  },
  "language_info": {
   "codemirror_mode": {
    "name": "ipython",
    "version": 2
   },
   "file_extension": ".py",
   "mimetype": "text/x-python",
   "name": "python",
   "nbconvert_exporter": "python",
   "pygments_lexer": "ipython2",
   "version": "2.7.10"
  }
 },
 "nbformat": 4,
 "nbformat_minor": 0
}
